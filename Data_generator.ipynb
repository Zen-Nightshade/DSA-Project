{
 "cells": [
  {
   "cell_type": "code",
   "execution_count": 31,
   "id": "d205121d-ba45-4e41-970c-6f82a4b032f2",
   "metadata": {},
   "outputs": [],
   "source": [
    "from sklearn.datasets import make_blobs\n",
    "import numpy as np\n",
    "import random"
   ]
  },
  {
   "cell_type": "code",
   "execution_count": 38,
   "id": "4b3c3242-aaf0-4341-9efe-7fe19003972d",
   "metadata": {},
   "outputs": [],
   "source": [
    "def train_data(X, Y):\n",
    "    first = 0\n",
    "    with open(\"cluster_data.csv\", 'w') as file:\n",
    "        for y,x in zip(Y, X):\n",
    "            first +=1\n",
    "            if first == 1:\n",
    "                file.write(\"ClusterID\")\n",
    "                for i in range(len(x)):\n",
    "                    coord = \",Coordinate_\"+str(i+1)\n",
    "                    file.write(coord)\n",
    "    \n",
    "                file.write(\"\\n\")\n",
    "    \n",
    "            file.write(f\"CLuster-{y+1}\")\n",
    "            for x_coord in x:\n",
    "                file.write(f\",{x_coord:.4f}\")\n",
    "            if first != len(Y):\n",
    "                file.write(\"\\n\")"
   ]
  },
  {
   "cell_type": "code",
   "execution_count": 39,
   "id": "b77c8db0-5c0d-4037-a062-7610d356e84b",
   "metadata": {},
   "outputs": [],
   "source": [
    "def test1_data(t1_X, t1_Y):\n",
    "    first = 0\n",
    "    with open(\"test-1.csv\", 'w') as test1:\n",
    "        for y,x in zip(t1_Y, t1_X):\n",
    "            first +=1\n",
    "            if first == 1:\n",
    "                    test1.write(\"ClusterID\")\n",
    "                    for i in range(len(x)):\n",
    "                        coord = \",Coordinate_\"+str(i+1)\n",
    "                        test1.write(coord)\n",
    "        \n",
    "                    test1.write(\"\\n\")\n",
    "                \n",
    "            test1.write(f\"CLuster-{y+1}\")\n",
    "            for x_coord in x:\n",
    "                test1.write(f\",{x_coord:.4f}\")\n",
    "            \n",
    "            if first != len(t1_Y):\n",
    "                test1.write(\"\\n\")"
   ]
  },
  {
   "cell_type": "code",
   "execution_count": 40,
   "id": "904254c6-bead-40a4-9aa5-465dd24eae27",
   "metadata": {},
   "outputs": [],
   "source": [
    "def test2_data(t2_X, t2_Y):\n",
    "    first = 0\n",
    "    with open(\"test-2.csv\", 'w') as test2:\n",
    "        for y,x in zip(t2_Y, t2_X):\n",
    "            first +=1\n",
    "            if first == 1:\n",
    "                    test2.write(\"ClusterID\")\n",
    "                    for i in range(len(x)):\n",
    "                        coord = \",Coordinate_\"+str(i+1)\n",
    "                        test2.write(coord)\n",
    "        \n",
    "                    test2.write(\"\\n\")\n",
    "                \n",
    "            test2.write(f\"CLuster-{y+1}\")\n",
    "            for x_coord in x:\n",
    "                test2.write(f\",{x_coord:.4f}\")\n",
    "            \n",
    "            if first != len(t2_Y):\n",
    "                test2.write(\"\\n\")"
   ]
  },
  {
   "cell_type": "code",
   "execution_count": 41,
   "id": "4151ca3d-6552-42c2-9b35-d5e3eddc7da6",
   "metadata": {},
   "outputs": [],
   "source": [
    "def test3_data(t3_X, t3_Y):\n",
    "    first = 0\n",
    "    with open(\"test-3.csv\", 'w') as test3:\n",
    "        for y,x in zip(t3_Y, t3_X):\n",
    "            first +=1\n",
    "            if first == 1:\n",
    "                    test3.write(\"ClusterID\")\n",
    "                    for i in range(len(x)):\n",
    "                        coord = \",Coordinate_\"+str(i+1)\n",
    "                        test3.write(coord)\n",
    "        \n",
    "                    test3.write(\"\\n\")\n",
    "                \n",
    "            test3.write(f\"CLuster-{y+1}\")\n",
    "            for x_coord in x:\n",
    "                test3.write(f\",{x_coord:.4f}\")\n",
    "            \n",
    "            if first != len(t3_Y):\n",
    "                test3.write(\"\\n\")"
   ]
  },
  {
   "cell_type": "markdown",
   "id": "d9465e79-f042-46b3-9a63-d78cee2c51da",
   "metadata": {},
   "source": [
    "#  Isotropic Gaussian Clusters"
   ]
  },
  {
   "cell_type": "code",
   "execution_count": 42,
   "id": "f4a18eb4-9aff-480a-bee0-e741aaa44240",
   "metadata": {},
   "outputs": [],
   "source": [
    "dimension = 10\n",
    "n_clusters = 3\n",
    "train = 1000\n",
    "test1 = 100\n",
    "test2 = 100\n",
    "test3 = 100\n",
    "rng = np.random.RandomState(seed = 100)\n",
    "centers = rng.randn(n_clusters, dimension) * 10\n",
    "\n",
    "X, Y = make_blobs(n_samples= train, centers = centers, cluster_std=1.0, n_features = dimension, random_state=100)\n",
    "train_data(X, Y)\n",
    "\n",
    "\n",
    "t1_X, t1_Y = make_blobs(n_samples = test1, centers = centers, cluster_std=0.5, n_features = dimension, random_state=100)\n",
    "test1_data(t1_X, t1_Y)\n",
    "\n",
    "\n",
    "t2_X, t2_Y = make_blobs(n_samples = test2, centers = centers, cluster_std=1.5, n_features = dimension, random_state=100)\n",
    "test2_data(t2_X, t2_Y)\n",
    "\n",
    "\n",
    "t3_X, t3_Y = make_blobs(n_samples = test3, centers = centers, cluster_std=2.0, n_features = dimension, random_state=100)\n",
    "test3_data(t3_X, t3_Y)"
   ]
  },
  {
   "cell_type": "markdown",
   "id": "0d50ebba-8898-4387-8d26-a17c427cd55f",
   "metadata": {},
   "source": [
    "# Anisotropic Gaussian Clusters"
   ]
  },
  {
   "cell_type": "code",
   "execution_count": 43,
   "id": "b4afe77b-e4ee-4d83-b5b5-6bb66091eb78",
   "metadata": {},
   "outputs": [],
   "source": [
    "dimension = 10\n",
    "n_clusters = 3\n",
    "train = 1000\n",
    "test1 = 100\n",
    "test2 = 100\n",
    "test3 = 100\n",
    "\n",
    "A = np.random.randn(dimension, dimension)\n",
    "\n",
    "rng = np.random.RandomState(seed = 100)\n",
    "centers = rng.randn(n_clusters, dimension) * 10\n",
    "\n",
    "X, Y = make_blobs(n_samples= train, centers = centers, cluster_std=1.0, n_features = dimension, random_state=100)\n",
    "X = X @ A\n",
    "train_data(X, Y)\n",
    "\n",
    "\n",
    "t1_X, t1_Y = make_blobs(n_samples = test1, centers = centers, cluster_std=0.5, n_features = dimension, random_state=100)\n",
    "t1_X = t1_X @ A\n",
    "test1_data(t1_X, t1_Y)\n",
    "\n",
    "\n",
    "t2_X, t2_Y = make_blobs(n_samples = test2, centers = centers, cluster_std=1.5, n_features = dimension, random_state=100)\n",
    "t2_X = t2_X @ A\n",
    "test2_data(t2_X, t2_Y)\n",
    "\n",
    "\n",
    "t3_X, t3_Y = make_blobs(n_samples = test3, centers = centers, cluster_std=2.0, n_features = dimension, random_state=100)\n",
    "t3_X = t3_X @ A\n",
    "test3_data(t3_X, t3_Y)"
   ]
  },
  {
   "cell_type": "markdown",
   "id": "39087029-7d6f-44e0-804d-e0d5b8d3b436",
   "metadata": {},
   "source": [
    "# Uniform data"
   ]
  },
  {
   "cell_type": "code",
   "execution_count": 46,
   "id": "b64706fe-8c96-4ff7-856c-f89b7bc343d3",
   "metadata": {},
   "outputs": [],
   "source": [
    "train = 1000\n",
    "test1 = 100\n",
    "test2 = 100\n",
    "test3 = 100\n",
    "dimensions = 10\n",
    "X = np.random.rand(train, dimensions)\n",
    "Y = (X.sum(axis=1) > (dimensions / 2)).astype(int)\n",
    "train_data(X, Y)\n",
    "\n",
    "t1_X = np.random.rand(test1, dimensions)\n",
    "t1_Y = (t1_X.sum(axis=1) > (dimensions / 2)).astype(int)\n",
    "test1_data(t1_X, t1_Y)\n",
    "\n",
    "t2_X = np.random.rand(test2, dimensions)\n",
    "t2_Y = (t2_X.sum(axis=1) > (dimensions / 2)).astype(int)\n",
    "test2_data(t2_X, t2_Y)\n",
    "\n",
    "t3_X = np.random.rand(test3, dimensions)\n",
    "t3_Y = (t3_X.sum(axis=1) > (dimensions / 2)).astype(int)\n",
    "test3_data(t3_X, t3_Y)"
   ]
  },
  {
   "cell_type": "markdown",
   "id": "1871a686-06aa-4e94-a87d-5747e2ec0319",
   "metadata": {},
   "source": [
    "# Overlapping clusters"
   ]
  },
  {
   "cell_type": "code",
   "execution_count": 48,
   "id": "d021f326-c8ce-4256-ba7d-de5640f4f1c7",
   "metadata": {},
   "outputs": [],
   "source": [
    "dimension = 10\n",
    "n_clusters = 3\n",
    "train = 1000\n",
    "test1 = 100\n",
    "test2 = 100\n",
    "test3 = 100\n",
    "rng = np.random.RandomState(seed = 100)\n",
    "centers = rng.randn(n_clusters, dimension) * 10\n",
    "\n",
    "X, Y = make_blobs(n_samples= train, centers = centers, cluster_std=6.0, n_features = dimension, random_state=100)\n",
    "train_data(X, Y)\n",
    "\n",
    "\n",
    "t1_X, t1_Y = make_blobs(n_samples = test1, centers = centers, cluster_std=0.5, n_features = dimension, random_state=100)\n",
    "test1_data(t1_X, t1_Y)\n",
    "\n",
    "\n",
    "t2_X, t2_Y = make_blobs(n_samples = test2, centers = centers, cluster_std=4, n_features = dimension, random_state=100)\n",
    "test2_data(t2_X, t2_Y)\n",
    "\n",
    "\n",
    "t3_X, t3_Y = make_blobs(n_samples = test3, centers = centers, cluster_std=10.0, n_features = dimension, random_state=100)\n",
    "test3_data(t3_X, t3_Y)"
   ]
  },
  {
   "cell_type": "code",
   "execution_count": null,
   "id": "1b26d9da-387d-416d-ae30-ca17b99cad31",
   "metadata": {},
   "outputs": [],
   "source": []
  }
 ],
 "metadata": {
  "kernelspec": {
   "display_name": "Python (sklearn_env)",
   "language": "python",
   "name": "sklearn_env"
  },
  "language_info": {
   "codemirror_mode": {
    "name": "ipython",
    "version": 3
   },
   "file_extension": ".py",
   "mimetype": "text/x-python",
   "name": "python",
   "nbconvert_exporter": "python",
   "pygments_lexer": "ipython3",
   "version": "3.12.3"
  }
 },
 "nbformat": 4,
 "nbformat_minor": 5
}
